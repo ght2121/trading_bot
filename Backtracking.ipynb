{
 "cells": [
  {
   "cell_type": "code",
   "execution_count": 1,
   "id": "b4a52fba",
   "metadata": {},
   "outputs": [
    {
     "name": "stdout",
     "output_type": "stream",
     "text": [
      "Collecting python-binance\n",
      "  Using cached python_binance-1.0.16-py2.py3-none-any.whl (65 kB)\n",
      "Requirement already satisfied: six in /Users/juanbraco/opt/anaconda3/lib/python3.9/site-packages (from python-binance) (1.16.0)\n",
      "Collecting aiohttp\n",
      "  Downloading aiohttp-3.8.4-cp39-cp39-macosx_10_9_x86_64.whl (360 kB)\n",
      "\u001b[2K     \u001b[90m━━━━━━━━━━━━━━━━━━━━━━━━━━━━━━━━━━━━━━━\u001b[0m \u001b[32m360.3/360.3 kB\u001b[0m \u001b[31m8.7 MB/s\u001b[0m eta \u001b[36m0:00:00\u001b[0m00:01\u001b[0m\n",
      "\u001b[?25hCollecting websockets\n",
      "  Downloading websockets-10.4-cp39-cp39-macosx_10_9_x86_64.whl (97 kB)\n",
      "\u001b[2K     \u001b[90m━━━━━━━━━━━━━━━━━━━━━━━━━━━━━━━━━━━━━━━━\u001b[0m \u001b[32m97.9/97.9 kB\u001b[0m \u001b[31m4.9 MB/s\u001b[0m eta \u001b[36m0:00:00\u001b[0m\n",
      "\u001b[?25hRequirement already satisfied: ujson in /Users/juanbraco/opt/anaconda3/lib/python3.9/site-packages (from python-binance) (5.4.0)\n",
      "Collecting dateparser\n",
      "  Using cached dateparser-1.1.7-py2.py3-none-any.whl (293 kB)\n",
      "Requirement already satisfied: requests in /Users/juanbraco/opt/anaconda3/lib/python3.9/site-packages (from python-binance) (2.28.1)\n",
      "Collecting yarl<2.0,>=1.0\n",
      "  Downloading yarl-1.8.2-cp39-cp39-macosx_10_9_x86_64.whl (61 kB)\n",
      "\u001b[2K     \u001b[90m━━━━━━━━━━━━━━━━━━━━━━━━━━━━━━━━━━━━━━━━\u001b[0m \u001b[32m61.2/61.2 kB\u001b[0m \u001b[31m4.5 MB/s\u001b[0m eta \u001b[36m0:00:00\u001b[0m\n",
      "\u001b[?25hCollecting async-timeout<5.0,>=4.0.0a3\n",
      "  Using cached async_timeout-4.0.2-py3-none-any.whl (5.8 kB)\n",
      "Requirement already satisfied: attrs>=17.3.0 in /Users/juanbraco/opt/anaconda3/lib/python3.9/site-packages (from aiohttp->python-binance) (21.4.0)\n",
      "Collecting frozenlist>=1.1.1\n",
      "  Downloading frozenlist-1.3.3-cp39-cp39-macosx_10_9_x86_64.whl (36 kB)\n",
      "Collecting aiosignal>=1.1.2\n",
      "  Using cached aiosignal-1.3.1-py3-none-any.whl (7.6 kB)\n",
      "Requirement already satisfied: charset-normalizer<4.0,>=2.0 in /Users/juanbraco/opt/anaconda3/lib/python3.9/site-packages (from aiohttp->python-binance) (2.0.4)\n",
      "Collecting multidict<7.0,>=4.5\n",
      "  Downloading multidict-6.0.4-cp39-cp39-macosx_10_9_x86_64.whl (29 kB)\n",
      "Collecting tzlocal\n",
      "  Using cached tzlocal-4.2-py3-none-any.whl (19 kB)\n",
      "Requirement already satisfied: regex!=2019.02.19,!=2021.8.27 in /Users/juanbraco/opt/anaconda3/lib/python3.9/site-packages (from dateparser->python-binance) (2022.7.9)\n",
      "Requirement already satisfied: python-dateutil in /Users/juanbraco/opt/anaconda3/lib/python3.9/site-packages (from dateparser->python-binance) (2.8.2)\n",
      "Requirement already satisfied: pytz in /Users/juanbraco/opt/anaconda3/lib/python3.9/site-packages (from dateparser->python-binance) (2022.1)\n",
      "Requirement already satisfied: certifi>=2017.4.17 in /Users/juanbraco/opt/anaconda3/lib/python3.9/site-packages (from requests->python-binance) (2022.9.24)\n",
      "Requirement already satisfied: urllib3<1.27,>=1.21.1 in /Users/juanbraco/opt/anaconda3/lib/python3.9/site-packages (from requests->python-binance) (1.26.11)\n",
      "Requirement already satisfied: idna<4,>=2.5 in /Users/juanbraco/opt/anaconda3/lib/python3.9/site-packages (from requests->python-binance) (3.3)\n",
      "Collecting pytz-deprecation-shim\n",
      "  Using cached pytz_deprecation_shim-0.1.0.post0-py2.py3-none-any.whl (15 kB)\n",
      "Collecting tzdata\n",
      "  Using cached tzdata-2022.7-py2.py3-none-any.whl (340 kB)\n",
      "Installing collected packages: websockets, tzdata, multidict, frozenlist, async-timeout, yarl, pytz-deprecation-shim, aiosignal, tzlocal, aiohttp, dateparser, python-binance\n",
      "Successfully installed aiohttp-3.8.4 aiosignal-1.3.1 async-timeout-4.0.2 dateparser-1.1.7 frozenlist-1.3.3 multidict-6.0.4 python-binance-1.0.16 pytz-deprecation-shim-0.1.0.post0 tzdata-2022.7 tzlocal-4.2 websockets-10.4 yarl-1.8.2\n",
      "Note: you may need to restart the kernel to use updated packages.\n"
     ]
    }
   ],
   "source": [
    "pip install python-binance"
   ]
  },
  {
   "cell_type": "code",
   "execution_count": 2,
   "id": "452a1a46",
   "metadata": {},
   "outputs": [
    {
     "name": "stdout",
     "output_type": "stream",
     "text": [
      "Collecting ta\n",
      "  Downloading ta-0.10.2.tar.gz (25 kB)\n",
      "  Preparing metadata (setup.py) ... \u001b[?25ldone\n",
      "\u001b[?25hRequirement already satisfied: numpy in /Users/juanbraco/opt/anaconda3/lib/python3.9/site-packages (from ta) (1.21.5)\n",
      "Requirement already satisfied: pandas in /Users/juanbraco/opt/anaconda3/lib/python3.9/site-packages (from ta) (1.4.4)\n",
      "Requirement already satisfied: python-dateutil>=2.8.1 in /Users/juanbraco/opt/anaconda3/lib/python3.9/site-packages (from pandas->ta) (2.8.2)\n",
      "Requirement already satisfied: pytz>=2020.1 in /Users/juanbraco/opt/anaconda3/lib/python3.9/site-packages (from pandas->ta) (2022.1)\n",
      "Requirement already satisfied: six>=1.5 in /Users/juanbraco/opt/anaconda3/lib/python3.9/site-packages (from python-dateutil>=2.8.1->pandas->ta) (1.16.0)\n",
      "Building wheels for collected packages: ta\n",
      "  Building wheel for ta (setup.py) ... \u001b[?25ldone\n",
      "\u001b[?25h  Created wheel for ta: filename=ta-0.10.2-py3-none-any.whl size=29088 sha256=ef3285b7fd0cb5584a66fb11ad0b36d465b008a41f614ba067dd47d2b654da06\n",
      "  Stored in directory: /Users/juanbraco/Library/Caches/pip/wheels/6a/76/03/7f785aaa50b9c6ec7e3fd105a62c1b2c45a034512d51e024a9\n",
      "Successfully built ta\n",
      "Installing collected packages: ta\n",
      "Successfully installed ta-0.10.2\n",
      "Note: you may need to restart the kernel to use updated packages.\n"
     ]
    }
   ],
   "source": [
    "pip install ta"
   ]
  },
  {
   "cell_type": "code",
   "execution_count": 13,
   "id": "06f8befb",
   "metadata": {},
   "outputs": [],
   "source": [
    "import pandas as pd\n",
    "from binance.client import Client\n",
    "import ta\n",
    "import matplotlib\n",
    "import matplotlib.pyplot as plt\n",
    "import numpy as np"
   ]
  },
  {
   "cell_type": "code",
   "execution_count": 29,
   "id": "080dbb38",
   "metadata": {},
   "outputs": [],
   "source": [
    "klinesT = Client().get_historical_klines(\"BTCUSDT\", Client.KLINE_INTERVAL_1HOUR, \"01 January 2017\")\n",
    "df = pd.DataFrame(klinesT, columns = ['timestamp', 'open', 'high', 'low', 'close', 'volume', 'close_time', 'quote_av', 'trades', 'tb_base_av', 'tb_quote_av', 'ignore' ])"
   ]
  },
  {
   "cell_type": "code",
   "execution_count": 30,
   "id": "03d8d262",
   "metadata": {},
   "outputs": [
    {
     "name": "stdout",
     "output_type": "stream",
     "text": [
      "           timestamp      open      high       low     close          volume\n",
      "0      1502942400000   4261.48   4313.62   4261.32   4308.83     47.18100900\n",
      "1      1502946000000   4308.83   4328.69   4291.37   4315.32     23.23491600\n",
      "2      1502949600000   4330.29   4345.45   4309.37   4324.35      7.22969100\n",
      "3      1502953200000   4316.62   4349.99   4287.41   4349.99      4.44324900\n",
      "4      1502956800000   4333.32   4377.85   4333.32   4360.69      0.97280700\n",
      "...              ...       ...       ...       ...       ...             ...\n",
      "48196  1676905200000  24970.00  25100.00  24860.00  24942.87  23628.01054000\n",
      "48197  1676908800000  24942.87  24957.32  24622.00  24884.20  26394.82918000\n",
      "48198  1676912400000  24883.03  24906.38  24761.87  24810.05  12440.01224000\n",
      "48199  1676916000000  24810.51  24842.06  24750.00  24819.67   9160.07649000\n",
      "48200  1676919600000  24820.46  24888.23  24803.39  24848.59   4708.23653000\n",
      "\n",
      "[48201 rows x 6 columns]\n"
     ]
    }
   ],
   "source": [
    "del df['ignore']\n",
    "del df['close_time']\n",
    "del df['quote_av']\n",
    "del df['trades']\n",
    "del df['tb_base_av']\n",
    "del df['tb_quote_av']\n",
    "\n",
    "df['close'] = pd.to_numeric(df['close'])\n",
    "df['high'] = pd.to_numeric(df['high'])\n",
    "df['low'] = pd.to_numeric(df['low'])\n",
    "df['open'] = pd.to_numeric(df['open'])\n",
    "print(df)"
   ]
  },
  {
   "cell_type": "code",
   "execution_count": 31,
   "id": "65cb66ad",
   "metadata": {},
   "outputs": [
    {
     "name": "stdout",
     "output_type": "stream",
     "text": [
      "                         open      high       low     close          volume\n",
      "timestamp                                                                  \n",
      "2017-08-17 04:00:00   4261.48   4313.62   4261.32   4308.83     47.18100900\n",
      "2017-08-17 05:00:00   4308.83   4328.69   4291.37   4315.32     23.23491600\n",
      "2017-08-17 06:00:00   4330.29   4345.45   4309.37   4324.35      7.22969100\n",
      "2017-08-17 07:00:00   4316.62   4349.99   4287.41   4349.99      4.44324900\n",
      "2017-08-17 08:00:00   4333.32   4377.85   4333.32   4360.69      0.97280700\n",
      "...                       ...       ...       ...       ...             ...\n",
      "2023-02-20 15:00:00  24970.00  25100.00  24860.00  24942.87  23628.01054000\n",
      "2023-02-20 16:00:00  24942.87  24957.32  24622.00  24884.20  26394.82918000\n",
      "2023-02-20 17:00:00  24883.03  24906.38  24761.87  24810.05  12440.01224000\n",
      "2023-02-20 18:00:00  24810.51  24842.06  24750.00  24819.67   9160.07649000\n",
      "2023-02-20 19:00:00  24820.46  24888.23  24803.39  24848.59   4708.23653000\n",
      "\n",
      "[48201 rows x 5 columns]\n"
     ]
    }
   ],
   "source": [
    "df = df.set_index(df['timestamp'])\n",
    "df.index = pd.to_datetime(df.index, unit='ms')\n",
    "\n",
    "del df['timestamp']\n",
    "print(df)"
   ]
  },
  {
   "cell_type": "code",
   "execution_count": 32,
   "id": "a9267d38",
   "metadata": {},
   "outputs": [
    {
     "name": "stdout",
     "output_type": "stream",
     "text": [
      "                         open      high       low     close          volume  \\\n",
      "timestamp                                                                     \n",
      "2017-08-17 04:00:00   4261.48   4313.62   4261.32   4308.83     47.18100900   \n",
      "2017-08-17 05:00:00   4308.83   4328.69   4291.37   4315.32     23.23491600   \n",
      "2017-08-17 06:00:00   4330.29   4345.45   4309.37   4324.35      7.22969100   \n",
      "2017-08-17 07:00:00   4316.62   4349.99   4287.41   4349.99      4.44324900   \n",
      "2017-08-17 08:00:00   4333.32   4377.85   4333.32   4360.69      0.97280700   \n",
      "...                       ...       ...       ...       ...             ...   \n",
      "2023-02-20 15:00:00  24970.00  25100.00  24860.00  24942.87  23628.01054000   \n",
      "2023-02-20 16:00:00  24942.87  24957.32  24622.00  24884.20  26394.82918000   \n",
      "2023-02-20 17:00:00  24883.03  24906.38  24761.87  24810.05  12440.01224000   \n",
      "2023-02-20 18:00:00  24810.51  24842.06  24750.00  24819.67   9160.07649000   \n",
      "2023-02-20 19:00:00  24820.46  24888.23  24803.39  24848.59   4708.23653000   \n",
      "\n",
      "                          SMA200        SMA600  \n",
      "timestamp                                       \n",
      "2017-08-17 04:00:00          NaN           NaN  \n",
      "2017-08-17 05:00:00          NaN           NaN  \n",
      "2017-08-17 06:00:00          NaN           NaN  \n",
      "2017-08-17 07:00:00          NaN           NaN  \n",
      "2017-08-17 08:00:00          NaN           NaN  \n",
      "...                          ...           ...  \n",
      "2023-02-20 15:00:00  23422.52635  23113.390217  \n",
      "2023-02-20 16:00:00  23437.92290  23116.523917  \n",
      "2023-02-20 17:00:00  23452.43815  23119.569250  \n",
      "2023-02-20 18:00:00  23467.13415  23122.540100  \n",
      "2023-02-20 19:00:00  23481.93555  23125.504417  \n",
      "\n",
      "[48201 rows x 7 columns]\n"
     ]
    }
   ],
   "source": [
    "df['SMA200'] = ta.trend.sma_indicator(df['close'], 200)\n",
    "df['SMA600'] = ta.trend.sma_indicator(df['close'], 600)\n",
    "print(df)"
   ]
  },
  {
   "cell_type": "code",
   "execution_count": 25,
   "id": "27674497",
   "metadata": {},
   "outputs": [
    {
     "name": "stdout",
     "output_type": "stream",
     "text": [
      "Buy BTC at 4176.24 $ the 2017-09-11 10:00:00\n",
      "Sell BTC at 4259.44 $ the 2017-09-12 13:00:00\n",
      "Buy BTC at 4302.02 $ the 2017-10-01 08:00:00\n",
      "Sell BTC at 16351.02 $ the 2017-12-27 05:00:00\n",
      "Buy BTC at 14219.61 $ the 2018-01-10 06:00:00\n",
      "Sell BTC at 14195.0 $ the 2018-01-15 12:00:00\n",
      "Buy BTC at 11082.94 $ the 2018-02-19 18:00:00\n",
      "Sell BTC at 8704.0 $ the 2018-03-11 07:00:00\n",
      "Buy BTC at 8018.98 $ the 2018-04-16 21:00:00\n",
      "Sell BTC at 8665.97 $ the 2018-05-14 00:00:00\n",
      "Buy BTC at 6584.36 $ the 2018-07-07 10:00:00\n",
      "Sell BTC at 7087.99 $ the 2018-08-07 11:00:00\n",
      "Buy BTC at 6902.74 $ the 2018-08-28 04:00:00\n",
      "Sell BTC at 6355.0 $ the 2018-09-11 03:00:00\n",
      "Buy BTC at 6669.36 $ the 2018-09-27 19:00:00\n",
      "Sell BTC at 6309.02 $ the 2018-10-12 22:00:00\n",
      "Buy BTC at 6573.58 $ the 2018-10-20 10:00:00\n",
      "Sell BTC at 6491.85 $ the 2018-10-28 10:00:00\n",
      "Buy BTC at 4125.4 $ the 2018-12-24 04:00:00\n",
      "Sell BTC at 3588.24 $ the 2019-01-13 02:00:00\n",
      "Buy BTC at 3626.58 $ the 2019-02-12 04:00:00\n",
      "Sell BTC at 7660.98 $ the 2019-06-09 18:00:00\n",
      "Buy BTC at 9105.21 $ the 2019-06-17 06:00:00\n",
      "Sell BTC at 9431.52 $ the 2019-07-17 04:00:00\n",
      "Buy BTC at 11692.8 $ the 2019-08-06 01:00:00\n",
      "Sell BTC at 10886.0 $ the 2019-08-20 01:00:00\n",
      "Buy BTC at 10541.4 $ the 2019-09-08 03:00:00\n",
      "Sell BTC at 10028.87 $ the 2019-09-22 23:00:00\n",
      "Buy BTC at 9660.0 $ the 2019-10-27 17:00:00\n",
      "Sell BTC at 8564.64 $ the 2019-11-15 05:00:00\n",
      "Buy BTC at 7206.3 $ the 2019-12-27 00:00:00\n",
      "Sell BTC at 9601.09 $ the 2020-02-24 19:00:00\n",
      "Buy BTC at 6368.68 $ the 2020-04-01 03:00:00\n",
      "Sell BTC at 8859.62 $ the 2020-05-27 04:00:00\n",
      "Buy BTC at 10115.56 $ the 2020-06-02 11:00:00\n",
      "Sell BTC at 9403.01 $ the 2020-06-18 13:00:00\n",
      "Buy BTC at 9290.23 $ the 2020-07-13 18:00:00\n",
      "Sell BTC at 9117.69 $ the 2020-07-17 10:00:00\n",
      "Buy BTC at 9164.57 $ the 2020-07-18 16:00:00\n",
      "Sell BTC at 11400.12 $ the 2020-08-27 01:00:00\n",
      "Buy BTC at 10417.22 $ the 2020-09-21 23:00:00\n",
      "Sell BTC at 10571.36 $ the 2020-10-06 19:00:00\n",
      "Buy BTC at 11363.33 $ the 2020-10-10 18:00:00\n",
      "Sell BTC at 32801.15 $ the 2021-01-24 07:00:00\n",
      "Buy BTC at 37366.02 $ the 2021-02-05 03:00:00\n",
      "Sell BTC at 47789.87 $ the 2021-03-02 22:00:00\n",
      "Buy BTC at 54632.79 $ the 2021-03-10 08:00:00\n",
      "Sell BTC at 57854.32 $ the 2021-03-29 11:00:00\n",
      "Buy BTC at 58670.64 $ the 2021-04-02 20:00:00\n",
      "Sell BTC at 54744.24 $ the 2021-04-22 14:00:00\n",
      "Buy BTC at 57584.01 $ the 2021-05-07 19:00:00\n",
      "Sell BTC at 47964.69 $ the 2021-05-15 22:00:00\n",
      "Buy BTC at 39952.7 $ the 2021-06-16 09:00:00\n",
      "Sell BTC at 33982.26 $ the 2021-06-23 07:00:00\n",
      "Buy BTC at 38242.96 $ the 2021-07-27 14:00:00\n",
      "Sell BTC at 45150.33 $ the 2021-09-12 06:00:00\n",
      "Buy BTC at 49476.51 $ the 2021-10-05 07:00:00\n",
      "Sell BTC at 56989.77 $ the 2021-11-19 09:00:00\n",
      "Buy BTC at 51450.57 $ the 2021-12-27 15:00:00\n",
      "Sell BTC at 46999.98 $ the 2022-01-03 02:00:00\n",
      "Buy BTC at 44065.25 $ the 2022-02-07 18:00:00\n",
      "Sell BTC at 38137.91 $ the 2022-02-23 00:00:00\n",
      "Buy BTC at 39387.57 $ the 2022-03-06 07:00:00\n",
      "Sell BTC at 39316.99 $ the 2022-03-10 21:00:00\n",
      "Buy BTC at 41062.31 $ the 2022-03-17 05:00:00\n",
      "Sell BTC at 40776.38 $ the 2022-03-17 17:00:00\n",
      "Buy BTC at 42191.28 $ the 2022-03-19 20:00:00\n",
      "Sell BTC at 40803.87 $ the 2022-04-11 14:00:00\n",
      "Buy BTC at 30425.0 $ the 2022-06-03 04:00:00\n",
      "Sell BTC at 27932.6 $ the 2022-06-12 16:00:00\n",
      "Buy BTC at 20987.27 $ the 2022-07-10 20:00:00\n",
      "Sell BTC at 21229.52 $ the 2022-08-21 05:00:00\n",
      "Buy BTC at 20246.35 $ the 2022-09-13 18:00:00\n",
      "Sell BTC at 18766.83 $ the 2022-09-20 17:00:00\n",
      "Buy BTC at 19973.75 $ the 2022-10-07 08:00:00\n",
      "Sell BTC at 19187.86 $ the 2022-10-15 04:00:00\n",
      "Buy BTC at 20719.26 $ the 2022-10-27 06:00:00\n",
      "Sell BTC at 18108.48 $ the 2022-11-10 20:00:00\n",
      "Buy BTC at 16934.23 $ the 2022-12-03 20:00:00\n",
      "Sell BTC at 16591.96 $ the 2022-12-22 17:00:00\n",
      "Buy BTC at 17205.95 $ the 2023-01-09 05:00:00\n",
      "Sell BTC at 21816.37 $ the 2023-02-12 00:00:00\n",
      "Buy BTC at 24758.6 $ the 2023-02-19 14:00:00\n"
     ]
    }
   ],
   "source": [
    "usdt = 1000\n",
    "btc = 0\n",
    "lastIndex = df.first_valid_index()\n",
    "\n",
    "for index, row in df.iterrows():\n",
    "  if df['SMA200'][lastIndex] > df['SMA600'][lastIndex] and usdt > 10:\n",
    "    btc = usdt / df['close'][index] \n",
    "    btc = btc - 0.001 * btc\n",
    "    usdt = 0\n",
    "    print(\"Buy BTC at\",df['close'][index],'$ the', index)\n",
    "\n",
    "  if df['SMA200'][lastIndex] < df['SMA600'][lastIndex] and btc > 0.0001:\n",
    "    usdt = btc * df['close'][index]\n",
    "    usdt = usdt - 0.001 * usdt\n",
    "    btc = 0\n",
    "    print(\"Sell BTC at\",df['close'][index],'$ the', index)\n",
    "  lastIndex = index"
   ]
  },
  {
   "cell_type": "code",
   "execution_count": 24,
   "id": "9ae30422",
   "metadata": {},
   "outputs": [
    {
     "data": {
      "text/plain": [
       "[<matplotlib.lines.Line2D at 0x7f96db955fa0>]"
      ]
     },
     "execution_count": 24,
     "metadata": {},
     "output_type": "execute_result"
    },
    {
     "data": {
      "image/png": "[encoded data removed]",
      "text/plain": [
       "<Figure size 800x600 with 1 Axes>"
      ]
     },
     "metadata": {},
     "output_type": "display_data"
    }
   ],
   "source": [
    "fig = plt.figure(figsize=(8, 6))\n",
    "ax = fig.add_subplot(111)\n",
    "\n",
    "ax.plot(df.index, df.SMA200, label=\"\", color=\"red\")\n",
    "ax.plot(df.index, df.SMA600, label=\"\", color=\"blue\")"
   ]
  },
  {
   "cell_type": "code",
   "execution_count": 26,
   "id": "70ee4284",
   "metadata": {},
   "outputs": [
    {
     "name": "stdout",
     "output_type": "stream",
     "text": [
      "Final result 21108.03055911317 USDT\n"
     ]
    }
   ],
   "source": [
    "finalResult = usdt + btc * df['close'].iloc[-1]\n",
    "print(\"Final result\",finalResult,'USDT')"
   ]
  },
  {
   "cell_type": "code",
   "execution_count": 27,
   "id": "50b42d37",
   "metadata": {},
   "outputs": [
    {
     "name": "stdout",
     "output_type": "stream",
     "text": [
      "Buy and hold result 5679.8643715347325 USDT\n"
     ]
    }
   ],
   "source": [
    "print(\"Buy and hold result\", (1000 / df['close'].iloc[0]) * df['close'].iloc[-1],'USDT')"
   ]
  },
  {
   "cell_type": "code",
   "execution_count": null,
   "id": "658dd6dd",
   "metadata": {},
   "outputs": [],
   "source": []
  }
 ],
 "metadata": {
  "kernelspec": {
   "display_name": "Python 3 (ipykernel)",
   "language": "python",
   "name": "python3"
  },
  "language_info": {
   "codemirror_mode": {
    "name": "ipython",
    "version": 3
   },
   "file_extension": ".py",
   "mimetype": "text/x-python",
   "name": "python",
   "nbconvert_exporter": "python",
   "pygments_lexer": "ipython3",
   "version": "3.9.13"
  }
 },
 "nbformat": 4,
 "nbformat_minor": 5
}
